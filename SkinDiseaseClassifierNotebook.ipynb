{
 "cells": [
  {
   "cell_type": "code",
   "execution_count": 1,
   "id": "ccc080ba-c944-4969-8a66-ab26a5ab5f7e",
   "metadata": {},
   "outputs": [],
   "source": [
    "%matplotlib inline\n",
    "import matplotlib.pyplot as plt\n",
    "import plotly.graph_objs as go\n",
    "import os"
   ]
  },
  {
   "cell_type": "code",
   "execution_count": 2,
   "id": "c4013336-ee3c-447d-b86a-d224287b02ff",
   "metadata": {},
   "outputs": [
    {
     "data": {
      "image/png": "[encoded data removed]",
      "text/plain": [
       "<Figure size 2000x1000 with 1 Axes>"
      ]
     },
     "metadata": {},
     "output_type": "display_data"
    }
   ],
   "source": [
    "dir = \"/Users/haziq/Desktop/skin-disease-dataset/train_set/\"\n",
    "    \n",
    "categories = [\"BA- cellulitis\", \n",
    "              \"BA-impetigo\",\n",
    "              \"FU-athlete-foot\",\n",
    "              \"FU-nail-fungus\",\n",
    "              \"FU-ringworm\",\n",
    "              \"PA-cutaneous-larva-migrans\", \n",
    "              \"VI-chickenpox\", \n",
    "              \"VI-shingles\"]\n",
    "\n",
    "y_heights = []\n",
    "\n",
    "for category in categories:\n",
    "\n",
    "    y_heights.append(len(os.listdir(dir + category)))\n",
    "\n",
    "plt.figure(figsize=(20,10))\n",
    "plt.bar(categories, y_heights)\n",
    "plt.show()"
   ]
  },
  {
   "cell_type": "code",
   "execution_count": 3,
   "id": "4f2fd70a-9e82-4021-80d6-5f7d639cfe8e",
   "metadata": {},
   "outputs": [],
   "source": [
    "import cv2\n",
    "import numpy as np"
   ]
  },
  {
   "cell_type": "code",
   "execution_count": 4,
   "id": "4129e115-18b2-4ff8-a5e6-ee433cce6420",
   "metadata": {},
   "outputs": [],
   "source": [
    "training_Data = []\n",
    "Display = []\n",
    "\n",
    "sharpening_kernel = np.array([[0, -1, 0], [-1, 5,-1], [0, -1, 0]])\n",
    "\n",
    "for category in categories:\n",
    "    class_num = categories.index(category)\n",
    "    for img in os.listdir(dir + category):\n",
    "        try:\n",
    "            img_array = cv2.imread(os.path.join(dir + category + \"/\" + img))\n",
    "            new_img = cv2.resize(img_array, (224, 224))\n",
    "            sharpened = cv2.filter2D(new_img, -1, sharpening_kernel)\n",
    "            training_Data.append([sharpened, class_num])\n",
    "        except:\n",
    "            print(\"Error\")\n",
    "\n",
    "        "
   ]
  },
  {
   "cell_type": "code",
   "execution_count": 5,
   "id": "cc2203cf-c1ff-47dd-b85d-816de86f8d31",
   "metadata": {},
   "outputs": [],
   "source": [
    "test_dir = \"/Users/haziq/Desktop/skin-disease-dataset/test_set/\"\n",
    "testing_Data = []\n",
    "\n",
    "for category in categories:\n",
    "    class_num = categories.index(category)\n",
    "    for img in os.listdir(test_dir + category):\n",
    "        try:\n",
    "            img_array = cv2.imread(os.path.join(test_dir + category + \"/\" + img))\n",
    "            new_img = cv2.resize(img_array, (224, 224))\n",
    "            sharpened = cv2.filter2D(new_img, -1, sharpening_kernel)\n",
    "            testing_Data.append([sharpened, class_num])\n",
    "        except:\n",
    "            print(\"Error\")\n"
   ]
  },
  {
   "cell_type": "code",
   "execution_count": 6,
   "id": "38179533-7722-40a7-8eed-37c97009f4db",
   "metadata": {},
   "outputs": [
    {
     "name": "stdout",
     "output_type": "stream",
     "text": [
      "925\n"
     ]
    }
   ],
   "source": [
    "print(len(training_Data))"
   ]
  },
  {
   "cell_type": "code",
   "execution_count": 7,
   "id": "89cc2e47-295c-41fd-ac88-7c8c237b8a77",
   "metadata": {},
   "outputs": [],
   "source": [
    "import random\n",
    "\n",
    "random.shuffle(training_Data)"
   ]
  },
  {
   "cell_type": "code",
   "execution_count": 8,
   "id": "25e2a6e8-58a7-4b19-b08f-464a4a905510",
   "metadata": {},
   "outputs": [],
   "source": [
    "import numpy as np"
   ]
  },
  {
   "cell_type": "code",
   "execution_count": 9,
   "id": "de5be2f3-2538-4e4f-8522-21c0103044ff",
   "metadata": {},
   "outputs": [],
   "source": [
    "input = []\n",
    "labels = []\n",
    "\n",
    "for image, label in training_Data:\n",
    "    \n",
    "    input.append(image)\n",
    "    labels.append(label)"
   ]
  },
  {
   "cell_type": "code",
   "execution_count": 10,
   "id": "88c285d4-a049-4224-b339-006cd619723a",
   "metadata": {},
   "outputs": [],
   "source": [
    "input = np.array(input)\n",
    "labels = np.array(labels)"
   ]
  },
  {
   "cell_type": "code",
   "execution_count": 11,
   "id": "0233b576-60d1-4bd6-b2ff-67a23f50d28a",
   "metadata": {},
   "outputs": [],
   "source": [
    "input = input / 255.0 #Normalizing"
   ]
  },
  {
   "cell_type": "code",
   "execution_count": 12,
   "id": "e1ef9928-75d5-433d-9808-831c2994ae0f",
   "metadata": {},
   "outputs": [
    {
     "name": "stderr",
     "output_type": "stream",
     "text": [
      "/opt/anaconda3/lib/python3.11/site-packages/tqdm/auto.py:21: TqdmWarning: IProgress not found. Please update jupyter and ipywidgets. See https://ipywidgets.readthedocs.io/en/stable/user_install.html\n",
      "  from .autonotebook import tqdm as notebook_tqdm\n"
     ]
    }
   ],
   "source": [
    "import torch\n",
    "import torch.nn as nn\n",
    "import torch.optim as optim\n",
    "import torchvision\n",
    "import torchvision.transforms as transforms\n",
    "from torch.utils.data import DataLoader, Dataset\n",
    "import torchvision.models as models"
   ]
  },
  {
   "cell_type": "code",
   "execution_count": 13,
   "id": "cefecf76-935e-47a5-b484-9234be0a4e73",
   "metadata": {},
   "outputs": [],
   "source": [
    "inputs_tensor = torch.tensor(input, dtype=torch.float32)\n",
    "labels_tensor = torch.tensor(labels, dtype=torch.long)"
   ]
  },
  {
   "cell_type": "code",
   "execution_count": 14,
   "id": "ae584f22-c59f-4eb1-94d1-f7f10d04f921",
   "metadata": {},
   "outputs": [
    {
     "name": "stdout",
     "output_type": "stream",
     "text": [
      "torch.Size([925, 224, 224, 3])\n",
      "torch.Size([925])\n"
     ]
    }
   ],
   "source": [
    "print(inputs_tensor.shape)\n",
    "print(labels_tensor.shape)"
   ]
  },
  {
   "cell_type": "code",
   "execution_count": 15,
   "id": "f0fdce98-0a87-4570-8c09-ce0592843530",
   "metadata": {},
   "outputs": [
    {
     "name": "stdout",
     "output_type": "stream",
     "text": [
      "torch.Size([925, 3, 224, 224])\n"
     ]
    }
   ],
   "source": [
    "inputs_tensor = inputs_tensor.permute(0, 3, 1, 2) #Change shape of tensor to one which pytorch expects\n",
    "print(inputs_tensor.shape)"
   ]
  },
  {
   "cell_type": "code",
   "execution_count": 16,
   "id": "2390bb1e-7828-4cee-afc0-16947797cdbd",
   "metadata": {},
   "outputs": [],
   "source": [
    "class CustomDataset(Dataset):\n",
    "    \n",
    "    def __init__(self, inputs, labels):\n",
    "        self.inputs = inputs\n",
    "        self.labels = labels\n",
    "\n",
    "    def __len__(self):\n",
    "        return len(self.inputs)\n",
    "\n",
    "    def __getitem__(self, index):\n",
    "        x = self.inputs[index]\n",
    "        y = self.labels[index]\n",
    "\n",
    "        return x, y"
   ]
  },
  {
   "cell_type": "code",
   "execution_count": 17,
   "id": "8e866e9e-d3a6-42c5-a8ce-7ed09860b873",
   "metadata": {},
   "outputs": [],
   "source": [
    "dataset = CustomDataset(inputs_tensor, labels_tensor)\n",
    "train_loader = DataLoader(dataset, batch_size=8, shuffle=True)"
   ]
  },
  {
   "cell_type": "code",
   "execution_count": 18,
   "id": "e0ba251e-3d56-407e-b329-ec8b3f050f9b",
   "metadata": {},
   "outputs": [
    {
     "name": "stderr",
     "output_type": "stream",
     "text": [
      "/opt/anaconda3/lib/python3.11/site-packages/torchvision/models/_utils.py:208: UserWarning: The parameter 'pretrained' is deprecated since 0.13 and may be removed in the future, please use 'weights' instead.\n",
      "  warnings.warn(\n",
      "/opt/anaconda3/lib/python3.11/site-packages/torchvision/models/_utils.py:223: UserWarning: Arguments other than a weight enum or `None` for 'weights' are deprecated since 0.13 and may be removed in the future. The current behavior is equivalent to passing `weights=MobileNet_V3_Large_Weights.IMAGENET1K_V1`. You can also use `weights=MobileNet_V3_Large_Weights.DEFAULT` to get the most up-to-date weights.\n",
      "  warnings.warn(msg)\n"
     ]
    }
   ],
   "source": [
    "model = models.mobilenet_v3_large(pretrained=True)"
   ]
  },
  {
   "cell_type": "code",
   "execution_count": 19,
   "id": "aab447a1-5adc-4c45-aa37-ee9ae5fd5f44",
   "metadata": {},
   "outputs": [],
   "source": [
    "for param in model.parameters(): #Freeze weights\n",
    "    param.requires_grad = False\n",
    "\n",
    "num_ftrs = model.classifier[3].in_features\n",
    "model.classifier[3] = nn.Linear(num_ftrs, 8, bias=True) #Change neurons of final layer to match number of categories\n",
    "\n",
    "model.classifier[3].requires_grad = True #Unfreeze final layer parameters\n",
    "\n",
    "paramsToUpdate = list(model.classifier[3].parameters())"
   ]
  },
  {
   "cell_type": "code",
   "execution_count": 20,
   "id": "d40939cf-2cdb-43aa-a38e-174f67dbcb94",
   "metadata": {
    "scrolled": true
   },
   "outputs": [],
   "source": [
    "criterion = nn.CrossEntropyLoss()\n",
    "optimizer = optim.Adam(paramsToUpdate, lr=0.001)"
   ]
  },
  {
   "cell_type": "code",
   "execution_count": 21,
   "id": "c5847823-6ce1-47e4-9ee9-95a282050dd3",
   "metadata": {},
   "outputs": [],
   "source": [
    "device = torch.device(\"cuda:0\" if torch.cuda.is_available() else \"cpu\")\n",
    "model = model.to(device)"
   ]
  },
  {
   "cell_type": "code",
   "execution_count": 22,
   "id": "940e4688-6b3f-42d6-9248-6b00df2c4f30",
   "metadata": {},
   "outputs": [],
   "source": [
    "def train_model(model, training_Data, criterion, optimizer, num_epochs=15):\n",
    "    model.train()\n",
    "    for epoch in range(num_epochs):       \n",
    "        running_loss = 0.0\n",
    "        \n",
    "        for inputs, labels in train_loader:\n",
    "            inputs, labels = inputs.to(device), labels.to(device)\n",
    "            \n",
    "            optimizer.zero_grad()            \n",
    "            outputs = model(inputs)\n",
    "            \n",
    "            loss = criterion(outputs, labels)\n",
    "            loss.backward()\n",
    "            optimizer.step()\n",
    "            \n",
    "            running_loss += loss.item() * inputs.size(0)\n",
    "        \n",
    "        epoch_loss = running_loss / len(train_loader.dataset)\n",
    "        \n",
    "        print(f'Epoch [{epoch+1}/{num_epochs}], Loss: {epoch_loss:.4f}')\n",
    "        \n",
    "    print('Training complete')"
   ]
  },
  {
   "cell_type": "code",
   "execution_count": 23,
   "id": "56160737-2618-442f-8d6a-7f0f373decda",
   "metadata": {},
   "outputs": [
    {
     "name": "stdout",
     "output_type": "stream",
     "text": [
      "Epoch [1/20], Loss: 1.1533\n",
      "Epoch [2/20], Loss: 0.5607\n",
      "Epoch [3/20], Loss: 0.3992\n",
      "Epoch [4/20], Loss: 0.3380\n",
      "Epoch [5/20], Loss: 0.2922\n",
      "Epoch [6/20], Loss: 0.2733\n",
      "Epoch [7/20], Loss: 0.2483\n",
      "Epoch [8/20], Loss: 0.2062\n",
      "Epoch [9/20], Loss: 0.2013\n",
      "Epoch [10/20], Loss: 0.1539\n",
      "Epoch [11/20], Loss: 0.1613\n",
      "Epoch [12/20], Loss: 0.1854\n",
      "Epoch [13/20], Loss: 0.1442\n",
      "Epoch [14/20], Loss: 0.1629\n",
      "Epoch [15/20], Loss: 0.1360\n",
      "Epoch [16/20], Loss: 0.1312\n",
      "Epoch [17/20], Loss: 0.1322\n",
      "Epoch [18/20], Loss: 0.1390\n",
      "Epoch [19/20], Loss: 0.1134\n",
      "Epoch [20/20], Loss: 0.1238\n",
      "Training complete\n"
     ]
    }
   ],
   "source": [
    "train_model(model, train_loader, criterion, optimizer, num_epochs=20)"
   ]
  },
  {
   "cell_type": "code",
   "execution_count": 24,
   "id": "5e8468a0-ae1a-4c53-8107-d8b4631c0a99",
   "metadata": {},
   "outputs": [],
   "source": [
    "#Load testing tensors\n",
    "\n",
    "inputT = []\n",
    "labelT = []\n",
    "\n",
    "for image, label in testing_Data:\n",
    "    \n",
    "    inputT.append(image)\n",
    "    labelT.append(label)\n",
    "\n",
    "inputT = np.array(inputT)\n",
    "labelT = np.array(labelT)\n",
    "\n",
    "inputT = inputT / 255.0"
   ]
  },
  {
   "cell_type": "code",
   "execution_count": 25,
   "id": "16087c1c-5b2e-4c7a-97c1-62dcf416b7d0",
   "metadata": {},
   "outputs": [],
   "source": [
    "test_tensor = torch.tensor(inputT, dtype=torch.float32)\n",
    "Ltest_tensor = torch.tensor(labelT, dtype=torch.long)"
   ]
  },
  {
   "cell_type": "code",
   "execution_count": 26,
   "id": "548386bb-ba6f-4905-98ee-c349aaf029d1",
   "metadata": {},
   "outputs": [
    {
     "name": "stdout",
     "output_type": "stream",
     "text": [
      "torch.Size([234, 224, 224, 3])\n",
      "torch.Size([234])\n"
     ]
    }
   ],
   "source": [
    "print(test_tensor.shape)\n",
    "print(Ltest_tensor.shape)"
   ]
  },
  {
   "cell_type": "code",
   "execution_count": 27,
   "id": "18080aeb-ea5f-4d5e-a31a-5524155f9394",
   "metadata": {},
   "outputs": [],
   "source": [
    "test_tensor = test_tensor.permute(0, 3, 1, 2)"
   ]
  },
  {
   "cell_type": "code",
   "execution_count": 28,
   "id": "12804d21-abb0-404d-814a-8aef22b0476e",
   "metadata": {},
   "outputs": [
    {
     "data": {
      "text/plain": [
       "torch.Size([234, 3, 224, 224])"
      ]
     },
     "execution_count": 28,
     "metadata": {},
     "output_type": "execute_result"
    }
   ],
   "source": [
    "test_tensor.shape"
   ]
  },
  {
   "cell_type": "code",
   "execution_count": 29,
   "id": "51e1495f-06e4-46f1-9d2e-58bc1e235c51",
   "metadata": {},
   "outputs": [],
   "source": [
    "Testdataset = CustomDataset(test_tensor, Ltest_tensor)\n",
    "test_loader = DataLoader(Testdataset, batch_size=1, shuffle=False) #batch size 1 to help evaluate how successfully model\n",
    "                                                                    #evaluates each skin disease"
   ]
  },
  {
   "cell_type": "code",
   "execution_count": 30,
   "id": "f96c915a-93d0-48f1-9ebd-2932995ea343",
   "metadata": {},
   "outputs": [
    {
     "data": {
      "text/plain": [
       "234"
      ]
     },
     "execution_count": 30,
     "metadata": {},
     "output_type": "execute_result"
    }
   ],
   "source": [
    "len(Testdataset)"
   ]
  },
  {
   "cell_type": "code",
   "execution_count": 31,
   "id": "3cd9af62-739e-47ad-8a55-99f35eecc87c",
   "metadata": {},
   "outputs": [],
   "source": [
    "def evaluate_model(model, test_loader):\n",
    "    model.eval()  # Set the model to evaluation mode\n",
    "    correct = 0.0\n",
    "    total = 0.0\n",
    "    \n",
    "    catCorrect = 0.0\n",
    "    catTotal = 0.0\n",
    "    oldLabel = 0.0\n",
    "\n",
    "    with torch.no_grad():\n",
    "        for inputs, labels in test_loader:\n",
    "            inputs, labels = inputs.to(device), labels.to(device)\n",
    "            outputs = model(inputs)\n",
    "            _, predicted = torch.max(outputs.detach(), 1)\n",
    "            total += labels.size(0)\n",
    "            correct += (predicted == labels).sum().item()\n",
    "            \n",
    "            if labels == oldLabel:\n",
    "                catTotal += 1\n",
    "                if (predicted == labels):\n",
    "                    catCorrect += 1\n",
    "            else:\n",
    "                print(\"Accuracy at predicting \" + categories[oldLabel] + \": \" + str((catCorrect/catTotal) * 100))\n",
    "                catTotal = 1\n",
    "                catCorrect = 0\n",
    "                if (predicted == labels):\n",
    "                    catCorrect = 1\n",
    "\n",
    "            oldLabel = labels\n",
    "\n",
    "        print(\"Accuracy at predicting \" + categories[7] + \": \" + str((catCorrect/catTotal) * 100))\n",
    "\n",
    "    \n",
    "    print(f'Accuracy: {100 * (correct / total):.2f}%')"
   ]
  },
  {
   "cell_type": "code",
   "execution_count": 32,
   "id": "023afdab-ee55-45be-9f59-767e792f5889",
   "metadata": {},
   "outputs": [
    {
     "name": "stderr",
     "output_type": "stream",
     "text": [
      "[W NNPACK.cpp:64] Could not initialize NNPACK! Reason: Unsupported hardware.\n"
     ]
    },
    {
     "name": "stdout",
     "output_type": "stream",
     "text": [
      "Accuracy at predicting BA- cellulitis: 85.29411764705883\n",
      "Accuracy at predicting BA-impetigo: 100.0\n",
      "Accuracy at predicting FU-athlete-foot: 96.875\n",
      "Accuracy at predicting FU-nail-fungus: 100.0\n",
      "Accuracy at predicting FU-ringworm: 82.6086956521739\n",
      "Accuracy at predicting PA-cutaneous-larva-migrans: 92.0\n",
      "Accuracy at predicting VI-chickenpox: 97.05882352941177\n",
      "Accuracy at predicting VI-shingles: 100.0\n",
      "Accuracy: 94.44%\n"
     ]
    }
   ],
   "source": [
    "evaluate_model(model, test_loader)"
   ]
  }
 ],
 "metadata": {
  "kernelspec": {
   "display_name": "Python 3 (ipykernel)",
   "language": "python",
   "name": "python3"
  },
  "language_info": {
   "codemirror_mode": {
    "name": "ipython",
    "version": 3
   },
   "file_extension": ".py",
   "mimetype": "text/x-python",
   "name": "python",
   "nbconvert_exporter": "python",
   "pygments_lexer": "ipython3",
   "version": "3.11.9"
  }
 },
 "nbformat": 4,
 "nbformat_minor": 5
}
